{
 "cells": [
  {
   "cell_type": "code",
   "execution_count": 18,
   "metadata": {},
   "outputs": [
    {
     "name": "stdout",
     "output_type": "stream",
     "text": [
      "The blackcellmagic extension is already loaded. To reload it, use:\n",
      "  %reload_ext blackcellmagic\n"
     ]
    }
   ],
   "source": [
    "%load_ext blackcellmagic\n",
    "import pandas as pd\n",
    "import numpy as np\n",
    "\n",
    "import sqlite3 as sql\n",
    "import datetime"
   ]
  },
  {
   "cell_type": "code",
   "execution_count": 21,
   "metadata": {},
   "outputs": [
    {
     "data": {
      "text/plain": [
       "<sqlite3.Cursor at 0x112070f10>"
      ]
     },
     "execution_count": 21,
     "metadata": {},
     "output_type": "execute_result"
    }
   ],
   "source": [
    "connection = sql.connect(\"testy.db\")\n",
    "\n",
    "# Cursor used to traverse the records (?)\n",
    "cursor = connection.cursor()\n",
    "\n",
    "# cursor.execute(\"\"\"DROP TABLE words;\"\"\")"
   ]
  },
  {
   "cell_type": "code",
   "execution_count": 33,
   "metadata": {},
   "outputs": [],
   "source": [
    "connection = sql.connect(\"testy.db\")\n",
    "\n",
    "# Cursor used to traverse the records (?)\n",
    "cursor = connection.cursor()\n",
    "\n",
    "cursor.execute(\"\"\"DROP TABLE words;\"\"\")\n",
    "\n",
    "sql_command = \"\"\"\n",
    "CREATE TABLE words ( \n",
    "id INTEGER PRIMARY KEY, \n",
    "english VARCHAR(60), \n",
    "kana VARCHAR(60),\n",
    "kanji VARCHAR(60),\n",
    "week_id INT, \n",
    "date_added DATE);\"\"\"\n",
    "\n",
    "cursor.execute(sql_command)\n",
    "connection.commit()"
   ]
  },
  {
   "cell_type": "code",
   "execution_count": 34,
   "metadata": {},
   "outputs": [],
   "source": [
    "# delete\n",
    "# cursor.execute(\"\"\"DROP TABLE employee;\"\"\")\n",
    "\n",
    "\n",
    "# staff_data = [\n",
    "#     (\"William\", \"Shakespeare\", \"m\", \"1961-10-25\"),\n",
    "#     (\"Frank\", \"Schiller\", \"m\", \"1955-08-17\"),\n",
    "#     (\"Jane\", \"Wall\", \"f\", \"1989-03-14\"),\n",
    "# ]\n",
    "WEEK_ID = 1\n",
    "format_str = \"\"\"\n",
    "INSERT INTO words (\n",
    "    id, english, kana, kanji, week_id, date_added\n",
    ")\n",
    "VALUES (\n",
    "    NULL, \"{english}\", \"{kana}\", \"{kanji}\", \"{week_id}\", \"{date_added}\"\n",
    ")\n",
    ";\"\"\"\n",
    "    \n",
    "# DATE = str(datetime.date.today())\n",
    "DATE = \"2019-07-01\"\n",
    "for p in pairs[:5]:\n",
    "    sql_command = format_str.format(\n",
    "        english=p.english, kana=\"何\",\n",
    "        kanji=p.japanese,\n",
    "        week_id=WEEK_ID,\n",
    "        date_added=DATE)\n",
    "    cursor.execute(sql_command)\n",
    "    \n",
    "DATE = \"2019-06-27\"\n",
    "for p in pairs[5:10]:\n",
    "    sql_command = format_str.format(\n",
    "        english=p.english, kana=\"何\",\n",
    "        kanji=p.japanese,\n",
    "        week_id=WEEK_ID,\n",
    "        date_added=DATE)\n",
    "    cursor.execute(sql_command)\n",
    "\n",
    "# never forget this, if you want the changes to be saved:\n",
    "connection.commit()\n",
    "\n",
    "# necessary ?\n",
    "# connection.close()"
   ]
  },
  {
   "cell_type": "code",
   "execution_count": 36,
   "metadata": {},
   "outputs": [
    {
     "name": "stdout",
     "output_type": "stream",
     "text": [
      "(1, 'Healthy', '何', 'けんこう', 1, '2019-07-01')\n",
      "(2, 'Calculate', '何', 'けいさんする、計算する', 1, '2019-07-01')\n",
      "(3, 'Precise', '何', 'せいかく、正確', 1, '2019-07-01')\n",
      "(4, 'Trick someone', '何', 'だます、騙す', 1, '2019-07-01')\n",
      "(5, 'Free', '何', 'むりょう, 無料', 1, '2019-07-01')\n"
     ]
    }
   ],
   "source": [
    "sql_command = \"\"\"\n",
    "SELECT * FROM words\n",
    "WHERE date('now','-3 day') < date_added;\"\"\"\n",
    "cursor.execute(sql_command)\n",
    "result = cursor.fetchall() \n",
    "for r in result:\n",
    "    print(r)"
   ]
  },
  {
   "cell_type": "code",
   "execution_count": 25,
   "metadata": {},
   "outputs": [
    {
     "name": "stdout",
     "output_type": "stream",
     "text": [
      "(1, 'Healthy', '何', 'けんこう', 1, '2019-07-01')\n",
      "(2, 'Calculate', '何', 'けいさんする、計算する', 1, '2019-07-01')\n",
      "(3, 'Precise', '何', 'せいかく、正確', 1, '2019-07-01')\n",
      "(4, 'Trick someone', '何', 'だます、騙す', 1, '2019-07-01')\n",
      "(5, 'Free', '何', 'むりょう, 無料', 1, '2019-07-01')\n"
     ]
    }
   ],
   "source": [
    "sql_command = \"\"\"SELECT * FROM words;\"\"\"\n",
    "cursor.execute(sql_command)\n",
    "result = cursor.fetchall() \n",
    "for r in result:\n",
    "    print(r)"
   ]
  },
  {
   "cell_type": "markdown",
   "metadata": {},
   "source": [
    "Take X random\n",
    "`SELECT * FROM table ORDER BY RANDOM() LIMIT X;`\n",
    "\n",
    "* Filter words from today < 7 days\n",
    "* Order randomly\n",
    "* Pick X random from previous weeks\n",
    "* Host somewhere (like https://dbhub.io/ ?), or simply just github/gitlab push\n",
    "\n",
    "Perso:\n",
    "* Create training mode\n"
   ]
  },
  {
   "cell_type": "code",
   "execution_count": 9,
   "metadata": {},
   "outputs": [
    {
     "name": "stdout",
     "output_type": "stream",
     "text": [
      "The blackcellmagic extension is already loaded. To reload it, use:\n",
      "  %reload_ext blackcellmagic\n"
     ]
    }
   ],
   "source": [
    "%load_ext blackcellmagic\n",
    "# Usage: %%black\n",
    "\n",
    "from dataclasses import dataclass, field\n",
    "from typing import List\n",
    "from queue import Queue, Empty\n",
    "from random import shuffle, choice\n",
    "\n",
    "import ipywidgets as widgets\n",
    "from IPython.display import display, clear_output\n",
    "import asyncio\n",
    "\n",
    "# Enable widgets:\n",
    "# !jupyter nbextension install --py widgetsnbextension --user\n",
    "# !jupyter nbextension enable widgetsnbextension --user --py\n",
    "\n",
    "@dataclass\n",
    "class Pairs:\n",
    "    japanese: str\n",
    "    english: str\n",
    "    \n",
    "\n",
    "@dataclass\n",
    "class Player:\n",
    "    name: str\n",
    "    vocab: List[Pairs] = field(repr=False)\n",
    "#     known: List[Pairs] = field(default_factory=lambda :[], init=False)\n",
    "        \n",
    "    def __post_init__(self):\n",
    "        shuffle(self.vocab)\n",
    "        \n",
    "        self.to_check = Queue()\n",
    "        for i in self.vocab:\n",
    "            self.to_check.put(i)\n",
    "            \n",
    "        self.score = {\n",
    "            \"known\": 0,\n",
    "            \"failed\": 0,\n",
    "            \"skipped\": 0,\n",
    "        }\n",
    "        \n",
    "    def update(self, category):\n",
    "        self.score[category] += 1\n",
    "       \n",
    "    def pick_word(self):\n",
    "        choice = self.to_check.get_nowait()\n",
    "        return choice\n",
    "    \n",
    "    def show_score(self):\n",
    "        for k in sorted(self.score.keys()):\n",
    "            print(\"{:<10}: {:>3}/{:>3} [{:>4.1%}]\".format(\n",
    "                k, self.score[k], len(self.vocab), self.score[k] / len(self.vocab)))\n"
   ]
  },
  {
   "cell_type": "code",
   "execution_count": 10,
   "metadata": {},
   "outputs": [],
   "source": [
    "_raw = \"\"\"\\\n",
    "Healthy - けんこう\n",
    "Calculate - けいさんする、計算する\n",
    "Precise - せいかく、正確\n",
    "Trick someone - だます、騙す\n",
    "Free - むりょう, 無料\n",
    "Trustable - しんよう (する), 信用【する】\n",
    "A business - えいぎょう, 営業\n",
    "As one would expect (/great) - さすが, 流石\n",
    "International - こくさい, 国際\n",
    "To entrust (to someone) - まかせる, 任せる\n",
    "honest - しょうじき - 正直\n",
    "feature - とくちょう - 特徴\n",
    "basic - きほんてき - 基本的\n",
    "to change - かえる - 変える\n",
    "experiment - じっけん - 実験\n",
    "efficiency - のうりつ - 能率\n",
    "to improve - かいぜんする - 改善する\n",
    "extreme - かげき - 過激\n",
    "summary - おおすじ - 大筋\n",
    "address - じゅうしょ - 住所\n",
    "absence / non attendance - 欠席 / けっせき\n",
    "rarely - めったに\n",
    "to like / be pleased with - 気に入る / きにいる\n",
    "grapes - ぶどう\n",
    "sound / ring / roar - 鳴る / なる\n",
    "board (board of wood) - 板 / いた\n",
    "composition / essay - さくぶん　作文\n",
    "surely certainly - きっと\n",
    "to hold (hold the door) - 押さえる / おさえる\n",
    "make a proposal / apply - 申し込む もうしこむ\"\"\"\n",
    "\n",
    "pairs = [\n",
    "    Pairs(english=eng, japanese=jap)\n",
    "    for (eng, jap) in [x.split(\" - \", maxsplit=1) for x in _raw.split(\"\\n\")]\n",
    "]\n",
    "# pairs"
   ]
  },
  {
   "cell_type": "code",
   "execution_count": 11,
   "metadata": {},
   "outputs": [
    {
     "data": {
      "text/plain": [
       "[Pairs(japanese='けんこう', english='Healthy'),\n",
       " Pairs(japanese='けいさんする、計算する', english='Calculate'),\n",
       " Pairs(japanese='せいかく、正確', english='Precise'),\n",
       " Pairs(japanese='だます、騙す', english='Trick someone'),\n",
       " Pairs(japanese='むりょう, 無料', english='Free'),\n",
       " Pairs(japanese='しんよう (する), 信用【する】', english='Trustable'),\n",
       " Pairs(japanese='えいぎょう, 営業', english='A business'),\n",
       " Pairs(japanese='さすが, 流石', english='As one would expect (/great)'),\n",
       " Pairs(japanese='こくさい, 国際', english='International'),\n",
       " Pairs(japanese='まかせる, 任せる', english='To entrust (to someone)'),\n",
       " Pairs(japanese='しょうじき - 正直', english='honest'),\n",
       " Pairs(japanese='とくちょう - 特徴', english='feature'),\n",
       " Pairs(japanese='きほんてき - 基本的', english='basic'),\n",
       " Pairs(japanese='かえる - 変える', english='to change'),\n",
       " Pairs(japanese='じっけん - 実験', english='experiment'),\n",
       " Pairs(japanese='のうりつ - 能率', english='efficiency'),\n",
       " Pairs(japanese='かいぜんする - 改善する', english='to improve'),\n",
       " Pairs(japanese='かげき - 過激', english='extreme'),\n",
       " Pairs(japanese='おおすじ - 大筋', english='summary'),\n",
       " Pairs(japanese='じゅうしょ - 住所', english='address'),\n",
       " Pairs(japanese='欠席 / けっせき', english='absence / non attendance'),\n",
       " Pairs(japanese='めったに', english='rarely'),\n",
       " Pairs(japanese='気に入る / きにいる', english='to like / be pleased with'),\n",
       " Pairs(japanese='ぶどう', english='grapes'),\n",
       " Pairs(japanese='鳴る / なる', english='sound / ring / roar'),\n",
       " Pairs(japanese='板 / いた', english='board (board of wood)'),\n",
       " Pairs(japanese='さくぶん\\u3000作文', english='composition / essay'),\n",
       " Pairs(japanese='きっと', english='surely certainly'),\n",
       " Pairs(japanese='押さえる / おさえる', english='to hold (hold the door)'),\n",
       " Pairs(japanese='申し込む もうしこむ', english='make a proposal / apply')]"
      ]
     },
     "execution_count": 11,
     "metadata": {},
     "output_type": "execute_result"
    }
   ],
   "source": [
    "pairs"
   ]
  },
  {
   "cell_type": "code",
   "execution_count": null,
   "metadata": {},
   "outputs": [],
   "source": []
  },
  {
   "cell_type": "code",
   "execution_count": null,
   "metadata": {},
   "outputs": [],
   "source": []
  },
  {
   "cell_type": "code",
   "execution_count": null,
   "metadata": {},
   "outputs": [],
   "source": []
  },
  {
   "cell_type": "code",
   "execution_count": null,
   "metadata": {},
   "outputs": [],
   "source": []
  },
  {
   "cell_type": "code",
   "execution_count": null,
   "metadata": {},
   "outputs": [],
   "source": []
  }
 ],
 "metadata": {
  "kernelspec": {
   "display_name": "Python 3",
   "language": "python",
   "name": "python3"
  },
  "language_info": {
   "codemirror_mode": {
    "name": "ipython",
    "version": 3
   },
   "file_extension": ".py",
   "mimetype": "text/x-python",
   "name": "python",
   "nbconvert_exporter": "python",
   "pygments_lexer": "ipython3",
   "version": "3.7.3"
  }
 },
 "nbformat": 4,
 "nbformat_minor": 2
}
