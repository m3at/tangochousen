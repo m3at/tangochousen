{
 "cells": [
  {
   "cell_type": "code",
   "execution_count": 1,
   "metadata": {},
   "outputs": [],
   "source": [
    "from sys import version, version_info\n",
    "assert version_info >= (3, 7), \"Need python >= 3.7, you have:\\n{}\".format(version_info)\n",
    "\n",
    "# %load_ext blackcellmagic\n",
    "# Usage: %%black\n",
    "\n",
    "from dataclasses import dataclass, field\n",
    "from typing import List\n",
    "from queue import Queue, Empty\n",
    "from random import shuffle, choice\n",
    "\n",
    "import ipywidgets as widgets\n",
    "from IPython.display import display, clear_output\n",
    "import asyncio\n",
    "from time import sleep\n",
    "\n",
    "# Enable widgets:\n",
    "# !jupyter nbextension install --py widgetsnbextension --user\n",
    "# !jupyter nbextension enable widgetsnbextension --user --py"
   ]
  },
  {
   "cell_type": "code",
   "execution_count": 2,
   "metadata": {},
   "outputs": [],
   "source": [
    "@dataclass\n",
    "class Pairs:\n",
    "    japanese: str\n",
    "    english: str\n",
    "    \n",
    "\n",
    "@dataclass\n",
    "class Player:\n",
    "    name: str\n",
    "    vocab: List[Pairs] = field(repr=False)\n",
    "#     known: List[Pairs] = field(default_factory=lambda :[], init=False)\n",
    "        \n",
    "    def __post_init__(self):\n",
    "        shuffle(self.vocab)\n",
    "        \n",
    "        self.to_check = Queue()\n",
    "        for i in self.vocab:\n",
    "            self.to_check.put(i)\n",
    "            \n",
    "        self.score = {\n",
    "            \"known\": 0,\n",
    "            \"failed\": 0,\n",
    "            \"skipped\": 0,\n",
    "        }\n",
    "        \n",
    "    def update(self, category):\n",
    "        self.score[category] += 1\n",
    "       \n",
    "    def pick_word(self):\n",
    "        choice = self.to_check.get_nowait()\n",
    "        return choice\n",
    "    \n",
    "    def show_score(self):\n",
    "        for k in sorted(self.score.keys()):\n",
    "            print(\"{:<10}: {:>3}/{:>3} [{:>4.1%}]\".format(\n",
    "                k, self.score[k], len(self.vocab), self.score[k] / len(self.vocab)))\n"
   ]
  },
  {
   "cell_type": "code",
   "execution_count": 13,
   "metadata": {},
   "outputs": [],
   "source": [
    "_raw = []\n",
    "with open(\"./previous_words.txt\", \"r\") as f:\n",
    "    for i in f.readlines():\n",
    "        _raw.append(i[:-1])\n",
    "\n",
    "pairs_previous = [\n",
    "    Pairs(english=eng, japanese=jap)\n",
    "    for (eng, jap) in [x.split(\" - \", maxsplit=1) for x in _raw]\n",
    "]\n",
    "\n",
    "_raw = []\n",
    "with open(\"./new_words.txt\", \"r\") as f:\n",
    "    for i in f.readlines():\n",
    "        _raw.append(i[:-1])\n",
    "\n",
    "pairs_new = [\n",
    "    Pairs(english=eng, japanese=jap)\n",
    "    for (eng, jap) in [x.split(\" - \", maxsplit=1) for x in _raw]\n",
    "]"
   ]
  },
  {
   "cell_type": "code",
   "execution_count": 14,
   "metadata": {},
   "outputs": [],
   "source": [
    "%gui asyncio\n",
    "\n",
    "def wait_for_change(widget, value):\n",
    "    future = asyncio.Future()\n",
    "    def getvalue(change):\n",
    "        # TODO: learn how to use futures proprely\n",
    "        try:\n",
    "            future.result()\n",
    "        except asyncio.InvalidStateError:\n",
    "            future.set_result(0)\n",
    "    widget.on_click(getvalue)\n",
    "    return future"
   ]
  },
  {
   "cell_type": "code",
   "execution_count": 15,
   "metadata": {},
   "outputs": [
    {
     "data": {
      "application/vnd.jupyter.widget-view+json": {
       "model_id": "0f5628088df847378cec1ef35bb329ab",
       "version_major": 2,
       "version_minor": 0
      },
      "text/plain": [
       "IntProgress(value=0, description='[  0 / 45]', max=45)"
      ]
     },
     "metadata": {},
     "output_type": "display_data"
    },
    {
     "data": {
      "application/vnd.jupyter.widget-view+json": {
       "model_id": "c1bcdc1c9c8d49af900668c96601a250",
       "version_major": 2,
       "version_minor": 0
      },
      "text/plain": [
       "HTML(value='Questions here!')"
      ]
     },
     "metadata": {},
     "output_type": "display_data"
    },
    {
     "data": {
      "application/vnd.jupyter.widget-view+json": {
       "model_id": "6db37dd5d6284405a6cd804857392f1f",
       "version_major": 2,
       "version_minor": 0
      },
      "text/plain": [
       "Select(disabled=True, options=('Dan', 'Paul', 'Romeo'), value='Dan')"
      ]
     },
     "metadata": {},
     "output_type": "display_data"
    },
    {
     "data": {
      "application/vnd.jupyter.widget-view+json": {
       "model_id": "78cf3407257a41e4b577270b3693b7cb",
       "version_major": 2,
       "version_minor": 0
      },
      "text/plain": [
       "ToggleButtons(icons=('check-circle', 'question-circle', 'forward'), options=('Known ', 'Unkown ', 'Skipped '),…"
      ]
     },
     "metadata": {},
     "output_type": "display_data"
    },
    {
     "data": {
      "application/vnd.jupyter.widget-view+json": {
       "model_id": "8a5f2cdce500452b8831dbf7eceb4f23",
       "version_major": 2,
       "version_minor": 0
      },
      "text/plain": [
       "Button(description='Next!', icon='check', style=ButtonStyle())"
      ]
     },
     "metadata": {},
     "output_type": "display_data"
    },
    {
     "name": "stdout",
     "output_type": "stream",
     "text": [
      "All done\n",
      "~~~~~~~~~~~~~~~~~~~~~~~~~~~~~~~~~~~~~~~~~~~~~~~~~~~~~~~~~~~~~~~~~~~~~~~~~~~~~~~~\n",
      "Name: Dan\n",
      "failed    :   0/210 [0.0%]\n",
      "known     :  15/210 [7.1%]\n",
      "skipped   :   0/210 [0.0%]\n",
      "~~~~~~~~~~~~~~~~~~~~~~~~~~~~~~~~~~~~~~~~~~~~~~~~~~~~~~~~~~~~~~~~~~~~~~~~~~~~~~~~\n",
      "Name: Paul\n",
      "failed    :   1/210 [0.5%]\n",
      "known     :  14/210 [6.7%]\n",
      "skipped   :   0/210 [0.0%]\n",
      "~~~~~~~~~~~~~~~~~~~~~~~~~~~~~~~~~~~~~~~~~~~~~~~~~~~~~~~~~~~~~~~~~~~~~~~~~~~~~~~~\n",
      "Name: Romeo\n",
      "failed    :   2/210 [1.0%]\n",
      "known     :  13/210 [6.2%]\n",
      "skipped   :   0/210 [0.0%]\n"
     ]
    }
   ],
   "source": [
    "# NEW = True\n",
    "NEW = False\n",
    "\n",
    "if NEW:\n",
    "    pairs = pairs_new\n",
    "    vocab_size = len(pairs) * len(players)\n",
    "else:\n",
    "    pairs = pairs_previous\n",
    "    vocab_size = 15 * len(players)\n",
    "\n",
    "_players = [\"Dan\", \"Romeo\", \"Paul\"]\n",
    "players = [Player(name=name, vocab=pairs) for name in _players]\n",
    "shuffle(players)\n",
    "\n",
    "flags = {\"japanese\": \"🇯🇵\", \"english\": \"🇬🇧\", \"aussie\": \"🇦🇺\"}\n",
    "\n",
    "question = widgets.HTML(\n",
    "    value=\"Questions here!\",\n",
    ")\n",
    "\n",
    "list_players = widgets.Select(\n",
    "    options=[p.name for p in players],\n",
    "    value=players[0].name,\n",
    "    disabled=True\n",
    ")\n",
    "\n",
    "progress = widgets.IntProgress(\n",
    "    value=0,\n",
    "    min=0,\n",
    "    max=vocab_size,\n",
    "    step=1,\n",
    "    description=\"[  0 /{:>3}]\".format(vocab_size),\n",
    "    bar_style='',\n",
    "    orientation='horizontal'\n",
    ")\n",
    "\n",
    "status = widgets.ToggleButtons(\n",
    "    options=['Known ', 'Unkown ', 'Skipped '],\n",
    "    disabled=False,\n",
    "    button_style='',\n",
    "    icons=[\"check-circle\", \"question-circle\", \"forward\"],\n",
    ")\n",
    "_mapping = {\"Known \": \"known\", \"Unkown \": \"failed\", \"Skipped \": \"skipped\"}\n",
    "\n",
    "next_b = widgets.Button(\n",
    "    description='Next!',\n",
    "    button_style='',\n",
    "    icon='check'\n",
    ")\n",
    "\n",
    "async def f():\n",
    "    for i in range(vocab_size):\n",
    "        player_idx = i % len(players)\n",
    "        curr_player = players[player_idx]\n",
    "        list_players.value = curr_player.name\n",
    "        word = curr_player.pick_word()\n",
    "\n",
    "        q, a = choice([\n",
    "            [\"japanese\", \"english\"],\n",
    "            [\"english\", \"japanese\"],\n",
    "        ])\n",
    "        f_q, f_a = q, a\n",
    "        if curr_player.name == \"Dan\":\n",
    "            # Need the right flag\n",
    "            f_q = \"aussie\" if q == \"english\" else f_q\n",
    "            f_a = \"aussie\" if a == \"english\" else f_a\n",
    "\n",
    "        question.value = 'From <b>{}</b> {} to <b>{}</b> {}, translate:<p><b style=\"font-size: 32px\">{}</b>'.format(\n",
    "            q, flags[f_q], a, flags[f_a],\n",
    "            getattr(word, q),\n",
    "        )\n",
    "        _ = await wait_for_change(next_b, 'value')\n",
    "        next_b.disabled = True\n",
    "        \n",
    "        curr_player.update(_mapping[status.value])\n",
    "        \n",
    "        progress.value += 1\n",
    "        progress.description = \"[{:>3} /{:>3}]\".format(progress.value, vocab_size)\n",
    "        \n",
    "        # Avoid quick double press\n",
    "        sleep(0.5)\n",
    "        next_b.disabled = False\n",
    "        \n",
    "    print(\"All done\")\n",
    "    \n",
    "    for p in players:\n",
    "        print(\"~\"*80)\n",
    "        print(f\"Name: {p.name}\")\n",
    "        p.show_score()\n",
    "\n",
    "asyncio.ensure_future(f())\n",
    "\n",
    "display(progress)\n",
    "display(question)\n",
    "display(list_players)\n",
    "display(status)\n",
    "next_b"
   ]
  },
  {
   "cell_type": "markdown",
   "metadata": {},
   "source": [
    "* Is brain fart usually used in past tense\n",
    "\n",
    "* Make text bigger\n",
    "\n",
    "* Kensa -> investigation\n",
    "\n",
    "* Understand usage of to try\n",
    "\n",
    "* Senmonka \n",
    "\n",
    "* Ask more questions when evaluating"
   ]
  },
  {
   "cell_type": "markdown",
   "metadata": {},
   "source": [
    "# Suggestions for improvements\n",
    "\n",
    "- [ ] Timer: 20s\n",
    "    + Put pressure\n",
    "    - Put pressure\n",
    "    - We're fast enough usually\n",
    "    + only for Dan :D\n",
    "- [ ] Type the words\n",
    "    + ensure full knownledge\n",
    "    ? hiragana only\n",
    "    - make it slow\n",
    "    ? maybe only for english -> japanese\n",
    "- [ ] Issue with successive repeatitions\n",
    "- [x] Keep choosing direction randomly\n",
    "- [ ] Answer in a sentence, from japanese to english\n",
    "- [x] Have Tatsuya ask the questions\n",
    "- [x] Add minimal timer no to press next too often\n",
    "\n"
   ]
  }
 ],
 "metadata": {
  "kernelspec": {
   "display_name": "Python 3",
   "language": "python",
   "name": "python3"
  },
  "language_info": {
   "codemirror_mode": {
    "name": "ipython",
    "version": 3
   },
   "file_extension": ".py",
   "mimetype": "text/x-python",
   "name": "python",
   "nbconvert_exporter": "python",
   "pygments_lexer": "ipython3",
   "version": "3.7.4"
  }
 },
 "nbformat": 4,
 "nbformat_minor": 2
}
